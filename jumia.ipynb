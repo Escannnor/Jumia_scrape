{
 "cells": [
  {
   "cell_type": "code",
   "execution_count": 4,
   "metadata": {},
   "outputs": [],
   "source": [
    "import pandas as pd"
   ]
  },
  {
   "cell_type": "code",
   "execution_count": 5,
   "metadata": {},
   "outputs": [],
   "source": [
    "import matplotlib.pyplot as plt"
   ]
  },
  {
   "cell_type": "code",
   "execution_count": 6,
   "metadata": {},
   "outputs": [],
   "source": [
    "df = pd.read_csv('samsung.csv')"
   ]
  },
  {
   "cell_type": "code",
   "execution_count": 7,
   "metadata": {},
   "outputs": [
    {
     "data": {
      "text/plain": [
       "<Axes: >"
      ]
     },
     "execution_count": 7,
     "metadata": {},
     "output_type": "execute_result"
    },
    {
     "data": {
      "image/png": "[encoded data removed]",
      "text/plain": [
       "<Figure size 640x480 with 1 Axes>"
      ]
     },
     "metadata": {},
     "output_type": "display_data"
    }
   ],
   "source": [
    "df.plot()"
   ]
  },
  {
   "cell_type": "code",
   "execution_count": 9,
   "metadata": {},
   "outputs": [
    {
     "data": {
      "text/html": [
       "<div>\n",
       "<style scoped>\n",
       "    .dataframe tbody tr th:only-of-type {\n",
       "        vertical-align: middle;\n",
       "    }\n",
       "\n",
       "    .dataframe tbody tr th {\n",
       "        vertical-align: top;\n",
       "    }\n",
       "\n",
       "    .dataframe thead th {\n",
       "        text-align: right;\n",
       "    }\n",
       "</style>\n",
       "<table border=\"1\" class=\"dataframe\">\n",
       "  <thead>\n",
       "    <tr style=\"text-align: right;\">\n",
       "      <th></th>\n",
       "      <th>Unnamed: 0</th>\n",
       "      <th>Title</th>\n",
       "      <th>Price</th>\n",
       "      <th>Link</th>\n",
       "      <th>Rating</th>\n",
       "      <th>Image</th>\n",
       "    </tr>\n",
       "  </thead>\n",
       "  <tbody>\n",
       "    <tr>\n",
       "      <th>0</th>\n",
       "      <td>0</td>\n",
       "      <td>Samsung Galaxy S24 Ultra Sensor Clear View Wal...</td>\n",
       "      <td>₦ 110,000</td>\n",
       "      <td>https://www.jumia.com.ng/samsung-galaxy-s24-ul...</td>\n",
       "      <td>NaN</td>\n",
       "      <td>https://ng.jumia.is/unsafe/fit-in/300x300/filt...</td>\n",
       "    </tr>\n",
       "    <tr>\n",
       "      <th>1</th>\n",
       "      <td>1</td>\n",
       "      <td>Samsung Galaxy S24 Ultra Dual SIM - 12GB RAM -...</td>\n",
       "      <td>₦ 1,650,000</td>\n",
       "      <td>https://www.jumia.com.ng/samsung-galaxy-s24-ul...</td>\n",
       "      <td>NaN</td>\n",
       "      <td>https://ng.jumia.is/unsafe/fit-in/300x300/filt...</td>\n",
       "    </tr>\n",
       "    <tr>\n",
       "      <th>2</th>\n",
       "      <td>2</td>\n",
       "      <td>Samsung Galaxy S24 Ultra Dual SIM - 12GB RAM -...</td>\n",
       "      <td>₦ 1,899,000</td>\n",
       "      <td>https://www.jumia.com.ng/samsung-galaxy-s24-ul...</td>\n",
       "      <td>NaN</td>\n",
       "      <td>https://ng.jumia.is/unsafe/fit-in/300x300/filt...</td>\n",
       "    </tr>\n",
       "    <tr>\n",
       "      <th>3</th>\n",
       "      <td>3</td>\n",
       "      <td>Samsung Galaxy S24 Ultra 5G Sleek Silicone Pro...</td>\n",
       "      <td>₦ 5,000</td>\n",
       "      <td>https://www.jumia.com.ng/samsung-galaxy-s24-ul...</td>\n",
       "      <td>NaN</td>\n",
       "      <td>https://ng.jumia.is/unsafe/fit-in/300x300/filt...</td>\n",
       "    </tr>\n",
       "    <tr>\n",
       "      <th>4</th>\n",
       "      <td>4</td>\n",
       "      <td>Samsung Galaxy S24 Ultra 5G - 6.8\" (1TB/12GB) ...</td>\n",
       "      <td>₦ 2,880,000</td>\n",
       "      <td>https://www.jumia.com.ng/samsung-galaxy-s24-ul...</td>\n",
       "      <td>NaN</td>\n",
       "      <td>https://ng.jumia.is/unsafe/fit-in/300x300/filt...</td>\n",
       "    </tr>\n",
       "    <tr>\n",
       "      <th>...</th>\n",
       "      <td>...</td>\n",
       "      <td>...</td>\n",
       "      <td>...</td>\n",
       "      <td>...</td>\n",
       "      <td>...</td>\n",
       "      <td>...</td>\n",
       "    </tr>\n",
       "    <tr>\n",
       "      <th>395</th>\n",
       "      <td>395</td>\n",
       "      <td>Samsung Galaxy S24  6.2\" 8GB RAM 256GB ROM  5G...</td>\n",
       "      <td>₦ 1,200,000</td>\n",
       "      <td>https://www.jumia.com.ng/samsung-galaxy-s24-6....</td>\n",
       "      <td>NaN</td>\n",
       "      <td>https://ng.jumia.is/unsafe/fit-in/300x300/filt...</td>\n",
       "    </tr>\n",
       "    <tr>\n",
       "      <th>396</th>\n",
       "      <td>396</td>\n",
       "      <td>Samsung Galaxy S24  6.2\" 8GB RAM 256GB ROM  5G...</td>\n",
       "      <td>₦ 1,200,000</td>\n",
       "      <td>https://www.jumia.com.ng/samsung-galaxy-s24-6....</td>\n",
       "      <td>NaN</td>\n",
       "      <td>https://ng.jumia.is/unsafe/fit-in/300x300/filt...</td>\n",
       "    </tr>\n",
       "    <tr>\n",
       "      <th>397</th>\n",
       "      <td>397</td>\n",
       "      <td>Samsung Galaxy S24 Ultra 6.8\" 12GB 256GB ROM 5...</td>\n",
       "      <td>₦ 1,600,000</td>\n",
       "      <td>https://www.jumia.com.ng/samsung-galaxy-s24-ul...</td>\n",
       "      <td>NaN</td>\n",
       "      <td>https://ng.jumia.is/unsafe/fit-in/300x300/filt...</td>\n",
       "    </tr>\n",
       "    <tr>\n",
       "      <th>398</th>\n",
       "      <td>398</td>\n",
       "      <td>Samsung Galaxy S24 Protective Silicon Case₦ 4,...</td>\n",
       "      <td>₦ 4,000</td>\n",
       "      <td>https://www.jumia.com.ng/samsung-galaxy-s24-pr...</td>\n",
       "      <td>NaN</td>\n",
       "      <td>https://ng.jumia.is/unsafe/fit-in/300x300/filt...</td>\n",
       "    </tr>\n",
       "    <tr>\n",
       "      <th>399</th>\n",
       "      <td>399</td>\n",
       "      <td>Samsung Galaxy S24 Protective Silicon Case₦ 3,...</td>\n",
       "      <td>₦ 3,900</td>\n",
       "      <td>https://www.jumia.com.ng/samsung-galaxy-s24-pr...</td>\n",
       "      <td>NaN</td>\n",
       "      <td>https://ng.jumia.is/unsafe/fit-in/300x300/filt...</td>\n",
       "    </tr>\n",
       "  </tbody>\n",
       "</table>\n",
       "<p>400 rows × 6 columns</p>\n",
       "</div>"
      ],
      "text/plain": [
       "     Unnamed: 0                                              Title  \\\n",
       "0             0  Samsung Galaxy S24 Ultra Sensor Clear View Wal...   \n",
       "1             1  Samsung Galaxy S24 Ultra Dual SIM - 12GB RAM -...   \n",
       "2             2  Samsung Galaxy S24 Ultra Dual SIM - 12GB RAM -...   \n",
       "3             3  Samsung Galaxy S24 Ultra 5G Sleek Silicone Pro...   \n",
       "4             4  Samsung Galaxy S24 Ultra 5G - 6.8\" (1TB/12GB) ...   \n",
       "..          ...                                                ...   \n",
       "395         395  Samsung Galaxy S24  6.2\" 8GB RAM 256GB ROM  5G...   \n",
       "396         396  Samsung Galaxy S24  6.2\" 8GB RAM 256GB ROM  5G...   \n",
       "397         397  Samsung Galaxy S24 Ultra 6.8\" 12GB 256GB ROM 5...   \n",
       "398         398  Samsung Galaxy S24 Protective Silicon Case₦ 4,...   \n",
       "399         399  Samsung Galaxy S24 Protective Silicon Case₦ 3,...   \n",
       "\n",
       "           Price                                               Link  Rating  \\\n",
       "0      ₦ 110,000  https://www.jumia.com.ng/samsung-galaxy-s24-ul...     NaN   \n",
       "1    ₦ 1,650,000  https://www.jumia.com.ng/samsung-galaxy-s24-ul...     NaN   \n",
       "2    ₦ 1,899,000  https://www.jumia.com.ng/samsung-galaxy-s24-ul...     NaN   \n",
       "3        ₦ 5,000  https://www.jumia.com.ng/samsung-galaxy-s24-ul...     NaN   \n",
       "4    ₦ 2,880,000  https://www.jumia.com.ng/samsung-galaxy-s24-ul...     NaN   \n",
       "..           ...                                                ...     ...   \n",
       "395  ₦ 1,200,000  https://www.jumia.com.ng/samsung-galaxy-s24-6....     NaN   \n",
       "396  ₦ 1,200,000  https://www.jumia.com.ng/samsung-galaxy-s24-6....     NaN   \n",
       "397  ₦ 1,600,000  https://www.jumia.com.ng/samsung-galaxy-s24-ul...     NaN   \n",
       "398      ₦ 4,000  https://www.jumia.com.ng/samsung-galaxy-s24-pr...     NaN   \n",
       "399      ₦ 3,900  https://www.jumia.com.ng/samsung-galaxy-s24-pr...     NaN   \n",
       "\n",
       "                                                 Image  \n",
       "0    https://ng.jumia.is/unsafe/fit-in/300x300/filt...  \n",
       "1    https://ng.jumia.is/unsafe/fit-in/300x300/filt...  \n",
       "2    https://ng.jumia.is/unsafe/fit-in/300x300/filt...  \n",
       "3    https://ng.jumia.is/unsafe/fit-in/300x300/filt...  \n",
       "4    https://ng.jumia.is/unsafe/fit-in/300x300/filt...  \n",
       "..                                                 ...  \n",
       "395  https://ng.jumia.is/unsafe/fit-in/300x300/filt...  \n",
       "396  https://ng.jumia.is/unsafe/fit-in/300x300/filt...  \n",
       "397  https://ng.jumia.is/unsafe/fit-in/300x300/filt...  \n",
       "398  https://ng.jumia.is/unsafe/fit-in/300x300/filt...  \n",
       "399  https://ng.jumia.is/unsafe/fit-in/300x300/filt...  \n",
       "\n",
       "[400 rows x 6 columns]"
      ]
     },
     "execution_count": 9,
     "metadata": {},
     "output_type": "execute_result"
    }
   ],
   "source": [
    "JUMIA = pd.read_csv('samsung.csv')\n",
    "JUMIA"
   ]
  },
  {
   "cell_type": "code",
   "execution_count": 10,
   "metadata": {},
   "outputs": [
    {
     "data": {
      "image/png": "[encoded data removed]",
      "text/plain": [
       "<Figure size 640x480 with 1 Axes>"
      ]
     },
     "metadata": {},
     "output_type": "display_data"
    }
   ],
   "source": [
    "df.plot.box()\n",
    "plt.show()"
   ]
  }
 ],
 "metadata": {
  "kernelspec": {
   "display_name": "Python 3",
   "language": "python",
   "name": "python3"
  },
  "language_info": {
   "codemirror_mode": {
    "name": "ipython",
    "version": 3
   },
   "file_extension": ".py",
   "mimetype": "text/x-python",
   "name": "python",
   "nbconvert_exporter": "python",
   "pygments_lexer": "ipython3",
   "version": "3.12.1"
  }
 },
 "nbformat": 4,
 "nbformat_minor": 2
}
